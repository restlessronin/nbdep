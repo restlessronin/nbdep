{
 "cells": [
  {
   "cell_type": "markdown",
   "metadata": {},
   "source": [
    "# pipfile\n",
    "\n",
    "> Generate Pipfile from \"settings.ini\""
   ]
  },
  {
   "cell_type": "code",
   "execution_count": null,
   "metadata": {},
   "outputs": [],
   "source": [
    "#| default_exp pipfile"
   ]
  },
  {
   "cell_type": "code",
   "execution_count": null,
   "metadata": {},
   "outputs": [],
   "source": [
    "#| hide\n",
    "from nbdev.showdoc import *"
   ]
  },
  {
   "cell_type": "code",
   "execution_count": null,
   "metadata": {},
   "outputs": [],
   "source": [
    "#|export\n",
    "from nbdev.config import get_config"
   ]
  },
  {
   "cell_type": "code",
   "execution_count": null,
   "metadata": {},
   "outputs": [],
   "source": [
    "#|export\n",
    "import re\n",
    "def _to_pipfile_nv(namever):\n",
    "    m = re.search('^([a-z0-9_]+)(.*)$', namever)\n",
    "    if m:\n",
    "        n, v = m.group(1), m.group(2)\n",
    "        return f'{n}=\"{v}\"' if v else f'{n}=\"*\"'\n",
    "    else:\n",
    "        return ''\n",
    "\n",
    "def _to_pipfile_list(nv_list):\n",
    "    return '\\n'.join([_to_pipfile_nv(nv) for nv in nv_list.split(' ')])\n",
    "\n",
    "def write_pipfile(directory=None):\n",
    "    \"Writes a `Pipfile` file to `directory` based on settings.ini.\"\n",
    "    cfg = get_config()\n",
    "    d = Path(directory) if directory else cfg.config_path\n",
    "    req = '[[source]]\\nurl = \"https://pypi.python.org/simple\"\\nverify_ssl = true\\nname = \"pypi\"\\n'\n",
    "    req += '\\n[packages]\\n' + '\\n'.join([_to_pipfile_list(cfg.get(k, '')) for k in ['requirements', 'pip_requirements']]) + '\\n'\n",
    "    req += '\\n[dev-packages]\\n' + _to_pipfile_list(cfg.get('dev_requirements', '')) + '\\n'\n",
    "    (d/'Pipfile').mk_write(req)"
   ]
  },
  {
   "cell_type": "code",
   "execution_count": null,
   "metadata": {},
   "outputs": [],
   "source": [
    "#| hide\n",
    "import nbdev; nbdev.nbdev_export()"
   ]
  }
 ],
 "metadata": {
  "kernelspec": {
   "display_name": "Python 3 (ipykernel)",
   "language": "python",
   "name": "python3"
  }
 },
 "nbformat": 4,
 "nbformat_minor": 4
}
